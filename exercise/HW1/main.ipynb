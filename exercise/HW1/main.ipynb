{
 "cells": [
  {
   "cell_type": "markdown",
   "metadata": {},
   "source": [
    "## Genomics data analysis based on R\n",
    "\n",
    "HW1-TangMingchuan-2000017785-Peking University\n",
    "\n",
    "*My Jupyternotebook failed to export latex pdf with Chinese characters, sorry if my English troubles you.*"
   ]
  },
  {
   "cell_type": "markdown",
   "metadata": {},
   "source": [
    "# A\n"
   ]
  },
  {
   "cell_type": "code",
   "execution_count": 10,
   "metadata": {
    "vscode": {
     "languageId": "r"
    }
   },
   "outputs": [],
   "source": [
    "# 1\n",
    "college <- read.csv(\"./College.csv\")\n"
   ]
  },
  {
   "cell_type": "code",
   "execution_count": 11,
   "metadata": {
    "vscode": {
     "languageId": "r"
    }
   },
   "outputs": [
    {
     "name": "stdout",
     "output_type": "stream",
     "text": [
      "row = 777 \n",
      "col = 19"
     ]
    }
   ],
   "source": [
    "# 2\n",
    "row <- nrow(college)\n",
    "col <- ncol(college)\n",
    "cat(\"row =\", row, \"\\ncol =\", col)\n"
   ]
  },
  {
   "cell_type": "code",
   "execution_count": 12,
   "metadata": {
    "vscode": {
     "languageId": "r"
    }
   },
   "outputs": [
    {
     "data": {
      "text/html": [
       "<table class=\"dataframe\">\n",
       "<caption>A data.frame: 10 × 5</caption>\n",
       "<thead>\n",
       "\t<tr><th></th><th scope=col>Private</th><th scope=col>Apps</th><th scope=col>Accept</th><th scope=col>Enroll</th><th scope=col>Top10perc</th></tr>\n",
       "\t<tr><th></th><th scope=col>&lt;chr&gt;</th><th scope=col>&lt;int&gt;</th><th scope=col>&lt;int&gt;</th><th scope=col>&lt;int&gt;</th><th scope=col>&lt;int&gt;</th></tr>\n",
       "</thead>\n",
       "<tbody>\n",
       "\t<tr><th scope=row>Abilene Christian University</th><td>Yes</td><td>1660</td><td>1232</td><td>721</td><td>23</td></tr>\n",
       "\t<tr><th scope=row>Adelphi University</th><td>Yes</td><td>2186</td><td>1924</td><td>512</td><td>16</td></tr>\n",
       "\t<tr><th scope=row>Adrian College</th><td>Yes</td><td>1428</td><td>1097</td><td>336</td><td>22</td></tr>\n",
       "\t<tr><th scope=row>Agnes Scott College</th><td>Yes</td><td> 417</td><td> 349</td><td>137</td><td>60</td></tr>\n",
       "\t<tr><th scope=row>Alaska Pacific University</th><td>Yes</td><td> 193</td><td> 146</td><td> 55</td><td>16</td></tr>\n",
       "\t<tr><th scope=row>Albertson College</th><td>Yes</td><td> 587</td><td> 479</td><td>158</td><td>38</td></tr>\n",
       "\t<tr><th scope=row>Albertus Magnus College</th><td>Yes</td><td> 353</td><td> 340</td><td>103</td><td>17</td></tr>\n",
       "\t<tr><th scope=row>Albion College</th><td>Yes</td><td>1899</td><td>1720</td><td>489</td><td>37</td></tr>\n",
       "\t<tr><th scope=row>Albright College</th><td>Yes</td><td>1038</td><td> 839</td><td>227</td><td>30</td></tr>\n",
       "\t<tr><th scope=row>Alderson-Broaddus College</th><td>Yes</td><td> 582</td><td> 498</td><td>172</td><td>21</td></tr>\n",
       "</tbody>\n",
       "</table>\n"
      ],
      "text/latex": [
       "A data.frame: 10 × 5\n",
       "\\begin{tabular}{r|lllll}\n",
       "  & Private & Apps & Accept & Enroll & Top10perc\\\\\n",
       "  & <chr> & <int> & <int> & <int> & <int>\\\\\n",
       "\\hline\n",
       "\tAbilene Christian University & Yes & 1660 & 1232 & 721 & 23\\\\\n",
       "\tAdelphi University & Yes & 2186 & 1924 & 512 & 16\\\\\n",
       "\tAdrian College & Yes & 1428 & 1097 & 336 & 22\\\\\n",
       "\tAgnes Scott College & Yes &  417 &  349 & 137 & 60\\\\\n",
       "\tAlaska Pacific University & Yes &  193 &  146 &  55 & 16\\\\\n",
       "\tAlbertson College & Yes &  587 &  479 & 158 & 38\\\\\n",
       "\tAlbertus Magnus College & Yes &  353 &  340 & 103 & 17\\\\\n",
       "\tAlbion College & Yes & 1899 & 1720 & 489 & 37\\\\\n",
       "\tAlbright College & Yes & 1038 &  839 & 227 & 30\\\\\n",
       "\tAlderson-Broaddus College & Yes &  582 &  498 & 172 & 21\\\\\n",
       "\\end{tabular}\n"
      ],
      "text/markdown": [
       "\n",
       "A data.frame: 10 × 5\n",
       "\n",
       "| <!--/--> | Private &lt;chr&gt; | Apps &lt;int&gt; | Accept &lt;int&gt; | Enroll &lt;int&gt; | Top10perc &lt;int&gt; |\n",
       "|---|---|---|---|---|---|\n",
       "| Abilene Christian University | Yes | 1660 | 1232 | 721 | 23 |\n",
       "| Adelphi University | Yes | 2186 | 1924 | 512 | 16 |\n",
       "| Adrian College | Yes | 1428 | 1097 | 336 | 22 |\n",
       "| Agnes Scott College | Yes |  417 |  349 | 137 | 60 |\n",
       "| Alaska Pacific University | Yes |  193 |  146 |  55 | 16 |\n",
       "| Albertson College | Yes |  587 |  479 | 158 | 38 |\n",
       "| Albertus Magnus College | Yes |  353 |  340 | 103 | 17 |\n",
       "| Albion College | Yes | 1899 | 1720 | 489 | 37 |\n",
       "| Albright College | Yes | 1038 |  839 | 227 | 30 |\n",
       "| Alderson-Broaddus College | Yes |  582 |  498 | 172 | 21 |\n",
       "\n"
      ],
      "text/plain": [
       "                             Private Apps Accept Enroll Top10perc\n",
       "Abilene Christian University Yes     1660 1232   721    23       \n",
       "Adelphi University           Yes     2186 1924   512    16       \n",
       "Adrian College               Yes     1428 1097   336    22       \n",
       "Agnes Scott College          Yes      417  349   137    60       \n",
       "Alaska Pacific University    Yes      193  146    55    16       \n",
       "Albertson College            Yes      587  479   158    38       \n",
       "Albertus Magnus College      Yes      353  340   103    17       \n",
       "Albion College               Yes     1899 1720   489    37       \n",
       "Albright College             Yes     1038  839   227    30       \n",
       "Alderson-Broaddus College    Yes      582  498   172    21       "
      ]
     },
     "metadata": {},
     "output_type": "display_data"
    }
   ],
   "source": [
    "# 3\n",
    "rownames(college) <- college[, 1]\n",
    "college <- college[, -c(1:1)]\n",
    "college[c(0:10), c(0:5)]\n",
    "college[\"Private\"] <- factor(college[[\"Private\"]], levels = c(\"Yes\", \"No\"), labels = c(\"Yes\", \"No\"))\n"
   ]
  },
  {
   "cell_type": "code",
   "execution_count": 15,
   "metadata": {
    "vscode": {
     "languageId": "r"
    }
   },
   "outputs": [
    {
     "name": "stdout",
     "output_type": "stream",
     "text": [
      "Apps_mean: 3001.638 \n",
      "Accept_mean: 2018.804 \n",
      "Cor: 0.9434506"
     ]
    }
   ],
   "source": [
    "# 4\n",
    "Apps_mean <- mean(college[[\"Apps\"]])\n",
    "Accept_mean <- mean(college[[\"Accept\"]])\n",
    "Apps_Accept_coor <- cor(college[[\"Apps\"]], college[[\"Accept\"]])\n",
    "\n",
    "cat(\"Apps_mean:\", Apps_mean, \"\\nAccept_mean:\", Accept_mean, \"\\nCor:\", Apps_Accept_coor)\n"
   ]
  },
  {
   "cell_type": "code",
   "execution_count": 16,
   "metadata": {
    "vscode": {
     "languageId": "r"
    }
   },
   "outputs": [
    {
     "data": {
      "text/plain": [
       " Private        Apps           Accept     \n",
       " Yes:565   Min.   :   81   Min.   :   72  \n",
       " No :212   1st Qu.:  776   1st Qu.:  604  \n",
       "           Median : 1558   Median : 1110  \n",
       "           Mean   : 3002   Mean   : 2019  \n",
       "           3rd Qu.: 3624   3rd Qu.: 2424  \n",
       "           Max.   :48094   Max.   :26330  "
      ]
     },
     "metadata": {},
     "output_type": "display_data"
    }
   ],
   "source": [
    "# 5\n",
    "summary(college[, c(0:3)])\n"
   ]
  },
  {
   "cell_type": "markdown",
   "metadata": {},
   "source": [
    "As above, 1st Qu and 3st Qu represent 25 percentile and 75 percentile respectively."
   ]
  },
  {
   "cell_type": "code",
   "execution_count": 17,
   "metadata": {
    "vscode": {
     "languageId": "r"
    }
   },
   "outputs": [
    {
     "data": {
      "image/png": "[encoded data removed]",
      "text/plain": [
       "plot without title"
      ]
     },
     "metadata": {
      "image/png": {
       "height": 420,
       "width": 420
      }
     },
     "output_type": "display_data"
    }
   ],
   "source": [
    "# 6\n",
    "pairs(college[, c(0:5)])"
   ]
  },
  {
   "cell_type": "code",
   "execution_count": 18,
   "metadata": {
    "vscode": {
     "languageId": "r"
    }
   },
   "outputs": [
    {
     "data": {
      "image/png": "[encoded data removed]",
      "text/plain": [
       "Plot with title \"boxplot\""
      ]
     },
     "metadata": {
      "image/png": {
       "height": 420,
       "width": 420
      }
     },
     "output_type": "display_data"
    }
   ],
   "source": [
    "# 7\n",
    "par(mfrow = c(1, 2))\n",
    "\n",
    "plot_boxplot <- plot(college[[\"Private\"]], college[[\"Outstate\"]],\n",
    "    xlab = \"Private\",\n",
    "    ylab = \"Outstate\",\n",
    "    main = 'plot',\n",
    ")\n",
    "\n",
    "boxplot_boxplot <- boxplot(college[[\"Outstate\"]] ~ college[[\"Private\"]],\n",
    "    xlab = \"Private\",\n",
    "    ylab = \"Outstate\",\n",
    "    main = 'boxplot'\n",
    ")\n"
   ]
  },
  {
   "cell_type": "code",
   "execution_count": 19,
   "metadata": {
    "vscode": {
     "languageId": "r"
    }
   },
   "outputs": [
    {
     "data": {
      "image/png": "[encoded data removed]",
      "text/plain": [
       "Plot with title \"Elite-Outstate_boxplot\""
      ]
     },
     "metadata": {
      "image/png": {
       "height": 420,
       "width": 420
      }
     },
     "output_type": "display_data"
    }
   ],
   "source": [
    "# 8\n",
    "college[\"Elite\"] <- factor(college[[\"Top10perc\"]] > 50, levels = c(TRUE, FALSE), labels = c(\"Yes\", \"No\"))\n",
    "boxplot(college[[\"Outstate\"]] ~ college[[\"Elite\"]],\n",
    "    xlab = \"Elite\",\n",
    "    ylab = \"Outstate\",\n",
    "    main = \"Elite-Outstate_boxplot\"\n",
    ")\n"
   ]
  },
  {
   "cell_type": "code",
   "execution_count": 20,
   "metadata": {
    "vscode": {
     "languageId": "r"
    }
   },
   "outputs": [
    {
     "data": {
      "image/png": "[encoded data removed]",
      "text/plain": [
       "Plot with title \"Histogram of college_Accept\""
      ]
     },
     "metadata": {
      "image/png": {
       "height": 420,
       "width": 420
      }
     },
     "output_type": "display_data"
    }
   ],
   "source": [
    "# 9\n",
    "layout(matrix(c(1, 2), 2, 1, byrow = TRUE), widths = c(1, 1))\n",
    "hist(college[[\"Apps\"]], main = \"Histogram of college_Apps\")\n",
    "hist(college[[\"Accept\"]], main = \"Histogram of college_Accept\")\n"
   ]
  },
  {
   "cell_type": "code",
   "execution_count": 37,
   "metadata": {
    "vscode": {
     "languageId": "r"
    }
   },
   "outputs": [],
   "source": [
    "# 10\n",
    "write.csv(college, file = \"./College_Elite_added.csv\")\n"
   ]
  },
  {
   "cell_type": "markdown",
   "metadata": {},
   "source": [
    "# B"
   ]
  },
  {
   "cell_type": "code",
   "execution_count": 21,
   "metadata": {
    "vscode": {
     "languageId": "r"
    }
   },
   "outputs": [
    {
     "data": {
      "text/html": [
       "<table class=\"dataframe\">\n",
       "<caption>A data.frame: 10 × 5</caption>\n",
       "<thead>\n",
       "\t<tr><th></th><th scope=col>mpg</th><th scope=col>cylinders</th><th scope=col>displacement</th><th scope=col>horsepower</th><th scope=col>weight</th></tr>\n",
       "\t<tr><th></th><th scope=col>&lt;dbl&gt;</th><th scope=col>&lt;int&gt;</th><th scope=col>&lt;dbl&gt;</th><th scope=col>&lt;int&gt;</th><th scope=col>&lt;int&gt;</th></tr>\n",
       "</thead>\n",
       "<tbody>\n",
       "\t<tr><th scope=row>1</th><td>18</td><td>8</td><td>307</td><td>130</td><td>3504</td></tr>\n",
       "\t<tr><th scope=row>2</th><td>15</td><td>8</td><td>350</td><td>165</td><td>3693</td></tr>\n",
       "\t<tr><th scope=row>3</th><td>18</td><td>8</td><td>318</td><td>150</td><td>3436</td></tr>\n",
       "\t<tr><th scope=row>4</th><td>16</td><td>8</td><td>304</td><td>150</td><td>3433</td></tr>\n",
       "\t<tr><th scope=row>5</th><td>17</td><td>8</td><td>302</td><td>140</td><td>3449</td></tr>\n",
       "\t<tr><th scope=row>6</th><td>15</td><td>8</td><td>429</td><td>198</td><td>4341</td></tr>\n",
       "\t<tr><th scope=row>7</th><td>14</td><td>8</td><td>454</td><td>220</td><td>4354</td></tr>\n",
       "\t<tr><th scope=row>8</th><td>14</td><td>8</td><td>440</td><td>215</td><td>4312</td></tr>\n",
       "\t<tr><th scope=row>9</th><td>14</td><td>8</td><td>455</td><td>225</td><td>4425</td></tr>\n",
       "\t<tr><th scope=row>10</th><td>15</td><td>8</td><td>390</td><td>190</td><td>3850</td></tr>\n",
       "</tbody>\n",
       "</table>\n"
      ],
      "text/latex": [
       "A data.frame: 10 × 5\n",
       "\\begin{tabular}{r|lllll}\n",
       "  & mpg & cylinders & displacement & horsepower & weight\\\\\n",
       "  & <dbl> & <int> & <dbl> & <int> & <int>\\\\\n",
       "\\hline\n",
       "\t1 & 18 & 8 & 307 & 130 & 3504\\\\\n",
       "\t2 & 15 & 8 & 350 & 165 & 3693\\\\\n",
       "\t3 & 18 & 8 & 318 & 150 & 3436\\\\\n",
       "\t4 & 16 & 8 & 304 & 150 & 3433\\\\\n",
       "\t5 & 17 & 8 & 302 & 140 & 3449\\\\\n",
       "\t6 & 15 & 8 & 429 & 198 & 4341\\\\\n",
       "\t7 & 14 & 8 & 454 & 220 & 4354\\\\\n",
       "\t8 & 14 & 8 & 440 & 215 & 4312\\\\\n",
       "\t9 & 14 & 8 & 455 & 225 & 4425\\\\\n",
       "\t10 & 15 & 8 & 390 & 190 & 3850\\\\\n",
       "\\end{tabular}\n"
      ],
      "text/markdown": [
       "\n",
       "A data.frame: 10 × 5\n",
       "\n",
       "| <!--/--> | mpg &lt;dbl&gt; | cylinders &lt;int&gt; | displacement &lt;dbl&gt; | horsepower &lt;int&gt; | weight &lt;int&gt; |\n",
       "|---|---|---|---|---|---|\n",
       "| 1 | 18 | 8 | 307 | 130 | 3504 |\n",
       "| 2 | 15 | 8 | 350 | 165 | 3693 |\n",
       "| 3 | 18 | 8 | 318 | 150 | 3436 |\n",
       "| 4 | 16 | 8 | 304 | 150 | 3433 |\n",
       "| 5 | 17 | 8 | 302 | 140 | 3449 |\n",
       "| 6 | 15 | 8 | 429 | 198 | 4341 |\n",
       "| 7 | 14 | 8 | 454 | 220 | 4354 |\n",
       "| 8 | 14 | 8 | 440 | 215 | 4312 |\n",
       "| 9 | 14 | 8 | 455 | 225 | 4425 |\n",
       "| 10 | 15 | 8 | 390 | 190 | 3850 |\n",
       "\n"
      ],
      "text/plain": [
       "   mpg cylinders displacement horsepower weight\n",
       "1  18  8         307          130        3504  \n",
       "2  15  8         350          165        3693  \n",
       "3  18  8         318          150        3436  \n",
       "4  16  8         304          150        3433  \n",
       "5  17  8         302          140        3449  \n",
       "6  15  8         429          198        4341  \n",
       "7  14  8         454          220        4354  \n",
       "8  14  8         440          215        4312  \n",
       "9  14  8         455          225        4425  \n",
       "10 15  8         390          190        3850  "
      ]
     },
     "metadata": {},
     "output_type": "display_data"
    }
   ],
   "source": [
    "# 11\n",
    "Auto <- read.csv(\"./Auto.csv\", na.strings = \"?\")\n",
    "Auto <- na.omit(Auto)\n",
    "Auto[c(1:10),c(1:5)]"
   ]
  },
  {
   "cell_type": "code",
   "execution_count": 22,
   "metadata": {
    "vscode": {
     "languageId": "r"
    }
   },
   "outputs": [
    {
     "data": {
      "text/plain": [
       "\n",
       "Call:\n",
       "lm(formula = mpg ~ horsepower, data = Auto)\n",
       "\n",
       "Residuals:\n",
       "     Min       1Q   Median       3Q      Max \n",
       "-13.5710  -3.2592  -0.3435   2.7630  16.9240 \n",
       "\n",
       "Coefficients:\n",
       "             Estimate Std. Error t value Pr(>|t|)    \n",
       "(Intercept) 39.935861   0.717499   55.66   <2e-16 ***\n",
       "horsepower  -0.157845   0.006446  -24.49   <2e-16 ***\n",
       "---\n",
       "Signif. codes:  0 '***' 0.001 '**' 0.01 '*' 0.05 '.' 0.1 ' ' 1\n",
       "\n",
       "Residual standard error: 4.906 on 390 degrees of freedom\n",
       "Multiple R-squared:  0.6059,\tAdjusted R-squared:  0.6049 \n",
       "F-statistic: 599.7 on 1 and 390 DF,  p-value: < 2.2e-16\n"
      ]
     },
     "metadata": {},
     "output_type": "display_data"
    },
    {
     "data": {
      "text/html": [
       "<table class=\"dataframe\">\n",
       "<caption>A matrix: 1 × 3 of type dbl</caption>\n",
       "<thead>\n",
       "\t<tr><th></th><th scope=col>fit</th><th scope=col>lwr</th><th scope=col>upr</th></tr>\n",
       "</thead>\n",
       "<tbody>\n",
       "\t<tr><th scope=row>1</th><td>24.46708</td><td>23.97308</td><td>24.96108</td></tr>\n",
       "</tbody>\n",
       "</table>\n"
      ],
      "text/latex": [
       "A matrix: 1 × 3 of type dbl\n",
       "\\begin{tabular}{r|lll}\n",
       "  & fit & lwr & upr\\\\\n",
       "\\hline\n",
       "\t1 & 24.46708 & 23.97308 & 24.96108\\\\\n",
       "\\end{tabular}\n"
      ],
      "text/markdown": [
       "\n",
       "A matrix: 1 × 3 of type dbl\n",
       "\n",
       "| <!--/--> | fit | lwr | upr |\n",
       "|---|---|---|---|\n",
       "| 1 | 24.46708 | 23.97308 | 24.96108 |\n",
       "\n"
      ],
      "text/plain": [
       "  fit      lwr      upr     \n",
       "1 24.46708 23.97308 24.96108"
      ]
     },
     "metadata": {},
     "output_type": "display_data"
    },
    {
     "data": {
      "text/html": [
       "<table class=\"dataframe\">\n",
       "<caption>A matrix: 1 × 3 of type dbl</caption>\n",
       "<thead>\n",
       "\t<tr><th></th><th scope=col>fit</th><th scope=col>lwr</th><th scope=col>upr</th></tr>\n",
       "</thead>\n",
       "<tbody>\n",
       "\t<tr><th scope=row>1</th><td>24.46708</td><td>14.8094</td><td>34.12476</td></tr>\n",
       "</tbody>\n",
       "</table>\n"
      ],
      "text/latex": [
       "A matrix: 1 × 3 of type dbl\n",
       "\\begin{tabular}{r|lll}\n",
       "  & fit & lwr & upr\\\\\n",
       "\\hline\n",
       "\t1 & 24.46708 & 14.8094 & 34.12476\\\\\n",
       "\\end{tabular}\n"
      ],
      "text/markdown": [
       "\n",
       "A matrix: 1 × 3 of type dbl\n",
       "\n",
       "| <!--/--> | fit | lwr | upr |\n",
       "|---|---|---|---|\n",
       "| 1 | 24.46708 | 14.8094 | 34.12476 |\n",
       "\n"
      ],
      "text/plain": [
       "  fit      lwr     upr     \n",
       "1 24.46708 14.8094 34.12476"
      ]
     },
     "metadata": {},
     "output_type": "display_data"
    }
   ],
   "source": [
    "# 12\n",
    "relation <- lm(mpg ~ horsepower, data = Auto)\n",
    "summary(relation)\n",
    "\n",
    "predict(relation, data.frame(horsepower = c(98)), interval = \"confidence\")\n",
    "predict(relation, data.frame(horsepower = c(98)), interval = \"prediction\")\n"
   ]
  },
  {
   "cell_type": "markdown",
   "metadata": {},
   "source": [
    "As summary above，predictor and outcome variable can be described as: mpg ~ 39.9 - 0.16 * horsepower, R-squared ~ 0.6, correlation is relative strong, negative correlation.\n",
    "\n",
    "when horsepower = 98, mpg is expected to be 24.22. 95% confidence and prediction range are (23.97308, 24.96108) and (14.8094, 34.12476) respectively."
   ]
  },
  {
   "cell_type": "code",
   "execution_count": 23,
   "metadata": {
    "vscode": {
     "languageId": "r"
    }
   },
   "outputs": [
    {
     "data": {
      "image/png": "[encoded data removed]",
      "text/plain": [
       "Plot with title \"mpg & horsepower Regression\""
      ]
     },
     "metadata": {
      "image/png": {
       "height": 420,
       "width": 420
      }
     },
     "output_type": "display_data"
    }
   ],
   "source": [
    "# 13\n",
    "plot(Auto[[\"horsepower\"]], Auto[[\"mpg\"]],\n",
    "    main = \"mpg & horsepower Regression\", col = \"#ff6600\",\n",
    "    abline(relation, col = \"#190dce\"), xlab = \"horsepower\", ylab = \"mpg\"\n",
    ")\n"
   ]
  },
  {
   "cell_type": "code",
   "execution_count": 98,
   "metadata": {
    "vscode": {
     "languageId": "r"
    }
   },
   "outputs": [
    {
     "data": {
      "image/png": "[encoded data removed]",
      "text/plain": [
       "Plot with title \"\""
      ]
     },
     "metadata": {
      "image/png": {
       "height": 420,
       "width": 420
      }
     },
     "output_type": "display_data"
    }
   ],
   "source": [
    "# 14\n",
    "par(mfrow = c(2, 2))\n",
    "plot(relation)\n"
   ]
  },
  {
   "cell_type": "markdown",
   "metadata": {},
   "source": [
    "1. Residuals vs Fitted. This fig shows that there could be a non-linear relationship between predictor variable and the outcome variable because the U-shape residual instead of a horizontal line.\n",
    "2. Normal Q-Q. This plot shows if residuals are normally distributed. In this case, residuals follow a straight line well, indicating the resiiduals is expected to be normally distributed.\n",
    "3. Scale-Location. This plot shows if residuals are spread equally along the ranges of predictors. In this case, the U-shaped curve indicates that the residuals spread wider when fitted valus is small and large.\n",
    "4. Residuals vs Leverage. This plot helps us to find influential cases (i.e., subjects) if there are any. From the plot there is no influential case, or cases.\n",
    "\n",
    "> reference:\n",
    ">\n",
    "> [Understanding Diagnostic Plots for Linear Regression Analysis](https://library.virginia.edu/data/articles/diagnostic-plots)\n",
    ">\n",
    "> https://blog.csdn.net/qq_35837578/article/details/88357551\n"
   ]
  },
  {
   "cell_type": "markdown",
   "metadata": {},
   "source": [
    "# C"
   ]
  },
  {
   "cell_type": "code",
   "execution_count": 2,
   "metadata": {
    "vscode": {
     "languageId": "r"
    }
   },
   "outputs": [
    {
     "data": {
      "text/html": [
       "6"
      ],
      "text/latex": [
       "6"
      ],
      "text/markdown": [
       "6"
      ],
      "text/plain": [
       "[1] 6"
      ]
     },
     "metadata": {},
     "output_type": "display_data"
    }
   ],
   "source": [
    "# 15\n",
    "X <- sum(sample(\n",
    "    x = c(-1, 1), size = 10,\n",
    "    replace = TRUE\n",
    "))\n",
    "X"
   ]
  },
  {
   "cell_type": "code",
   "execution_count": 1,
   "metadata": {
    "vscode": {
     "languageId": "r"
    }
   },
   "outputs": [
    {
     "name": "stdout",
     "output_type": "stream",
     "text": [
      "mean_value_X: 6.5"
     ]
    }
   ],
   "source": [
    "# 16\n",
    "simulate_coin_flips <- function(Ntrials, Nflips) {\n",
    "    sequences <- replicate(Ntrials, sample(c(1, -1), Nflips, replace = TRUE))\n",
    "    return(sequences)\n",
    "}\n",
    "\n",
    "calculate_average_X <- function(sequences) {\n",
    "    idx <- apply(\n",
    "        sequences, 2,\n",
    "        function(sequence) {\n",
    "            return(which(sequence == 1)[5] == 5)\n",
    "        }\n",
    "    )\n",
    "    idx <- ifelse(is.na(idx), FALSE, idx)\n",
    "    step <- apply(sequences[, idx], 2, sum)\n",
    "    mean_value <- mean(step)\n",
    "    return(c(mean_value, step))\n",
    "}\n",
    "\n",
    "Ntrials <- 200\n",
    "Nflips <- 10\n",
    "\n",
    "sequences <- simulate_coin_flips(Ntrials, Nflips)\n",
    "average_X <- calculate_average_X(sequences)\n",
    "\n",
    "cat(\"mean_value_X:\", average_X[1])\n"
   ]
  },
  {
   "cell_type": "code",
   "execution_count": 7,
   "metadata": {
    "vscode": {
     "languageId": "r"
    }
   },
   "outputs": [
    {
     "name": "stdout",
     "output_type": "stream",
     "text": [
      "mean_value_X_series: -8.583333 17.16129 -4.608696 12.72131 -2.412698 -0.4193548 0.9275362 -18.26087 -8.142857 13.43284 -8.734177 15.25806 3.272727 19.65385 7.508197 -2.947368 -7.933333 4.516129 -3.087719 6.328358 0.3793103 10.78571 3.575758 20.98182 7.783784 -4.076923 8.275862 0.1851852 -3.555556 -6.771429 -9.875 13.46479 3.740741 -10.35294 14 3.275362 -20.8 7.151515 27.22581 8.103448 6.507937 10.44068 -3.333333 12.03571 1.527273 -2.415094 14.08511 30.55385 17.09375 10.46377"
     ]
    },
    {
     "data": {
      "image/png": "[encoded data removed]",
      "text/plain": [
       "plot without title"
      ]
     },
     "metadata": {
      "image/png": {
       "height": 420,
       "width": 420
      }
     },
     "output_type": "display_data"
    }
   ],
   "source": [
    "# 17\n",
    "Ntrials <- 2000\n",
    "Nflips <- 8000\n",
    "\n",
    "average <- function(Ntrials, Nflips) {\n",
    "    sequences <- simulate_coin_flips(Ntrials, Nflips)\n",
    "    average_X <- calculate_average_X(sequences)\n",
    "    return(average_X[1])\n",
    "}\n",
    "\n",
    "X_series <- replicate(50, average(Ntrials, Nflips))\n",
    "\n",
    "cat(\"mean_value_X_series:\", X_series)\n",
    "plot(X_series)"
   ]
  },
  {
   "cell_type": "markdown",
   "metadata": {},
   "source": [
    "As shown above, the mean valuse didn't converge to 0. The limit of 5 head beginning make the sum of each trial begins with 5 and the mean value of later flips is expected to be 0, making the theoratical mean value of each trial to be 5.\n",
    "\n",
    "If Nflips is an even number N = 2n, then $P(sum = 2a) = {C_{2n}^{n-a}}/{2^N}$. From hist drawn as follows, we can see that the distribution is \"wider\" as flip number increases (bigger std). So the mean value is not converged to 0 (not converged to 5 in this case)."
   ]
  },
  {
   "cell_type": "code",
   "execution_count": 6,
   "metadata": {
    "vscode": {
     "languageId": "r"
    }
   },
   "outputs": [
    {
     "data": {
      "image/png": "[encoded data removed]",
      "text/plain": [
       "Plot with title \"Parameters: Nflips: 50000, Ntrial: 5000\n",
       "mean:2.870130 \n",
       "sd:233.386316\""
      ]
     },
     "metadata": {
      "image/png": {
       "height": 420,
       "width": 420
      }
     },
     "output_type": "display_data"
    }
   ],
   "source": [
    "# 18\n",
    "par(mfrow = c(3, 2))\n",
    "Ntrials <- 5000\n",
    "\n",
    "for (Nflips in c(200, 500, 1000, 5000, 50000)) {\n",
    "    sequences <- simulate_coin_flips(Ntrials, Nflips)\n",
    "    average_X <- calculate_average_X(sequences)\n",
    "    distribution <- average_X[2:length(average_X)]\n",
    "\n",
    "    hist(distribution,\n",
    "        main = sprintf(\n",
    "            \"Parameters: Nflips: %d, Ntrial: %d\\nmean:%f \\nsd:%f\",\n",
    "            Nflips, Ntrials, average_X[1], sd(distribution)\n",
    "        )\n",
    "    )\n",
    "}\n"
   ]
  }
 ],
 "metadata": {
  "kernelspec": {
   "display_name": "R",
   "language": "R",
   "name": "ir"
  },
  "language_info": {
   "codemirror_mode": "r",
   "file_extension": ".r",
   "mimetype": "text/x-r-source",
   "name": "R",
   "pygments_lexer": "r",
   "version": "4.3.0"
  },
  "orig_nbformat": 4
 },
 "nbformat": 4,
 "nbformat_minor": 2
}
